{
 "cells": [
  {
   "cell_type": "code",
   "execution_count": null,
   "id": "e3e4d79c-1335-4c57-bcd7-e6e6d31e1587",
   "metadata": {},
   "outputs": [],
   "source": [
    "import os\n",
    "import nltk\n",
    "#nltk.download()"
   ]
  },
  {
   "cell_type": "code",
   "execution_count": null,
   "id": "4a99ca9d-e147-4778-bef1-66ffdc4c919b",
   "metadata": {},
   "outputs": [],
   "source": [
    "# you can also create your own words\n",
    "AI = '''Artificial Intelligence refers to the intelligence of machines. This is in contrast to the natural intelligence of\n",
    "humans and animals. With Artificial Intelligence, machines perform functions such as learning, planning, reasoning and\n",
    "problem-solving. Most noteworthy, Artificial Intelligence is the simulation of human intelligence by machines.\n",
    "It is probably the fastest-growing development in the World of technology and innovation. Furthermore, many experts believe\n",
    "AI could solve major challenges and crisis situations.'''"
   ]
  },
  {
   "cell_type": "code",
   "execution_count": null,
   "id": "a882a2f4-4544-462b-8904-38e02c17077e",
   "metadata": {},
   "outputs": [],
   "source": [
    "AI"
   ]
  },
  {
   "cell_type": "code",
   "execution_count": null,
   "id": "bcbbb017-7d8c-4b5c-89b6-4f4391ace0f9",
   "metadata": {},
   "outputs": [],
   "source": [
    "type(AI)"
   ]
  },
  {
   "cell_type": "code",
   "execution_count": null,
   "id": "f0f268a2-cc69-4c68-a753-e95e8df2e9db",
   "metadata": {},
   "outputs": [],
   "source": [
    "from nltk.tokenize import word_tokenize"
   ]
  },
  {
   "cell_type": "code",
   "execution_count": null,
   "id": "252e4f30-0814-497d-b5e4-93451ba5af92",
   "metadata": {},
   "outputs": [],
   "source": [
    "AI_tokens = word_tokenize(AI)\n",
    "AI_tokens"
   ]
  },
  {
   "cell_type": "code",
   "execution_count": null,
   "id": "ebf793e9-de1a-4f9a-be7c-ab72e85ad752",
   "metadata": {},
   "outputs": [],
   "source": [
    "len(AI_tokens)"
   ]
  },
  {
   "cell_type": "code",
   "execution_count": null,
   "id": "1fadbe2f-7553-4eba-8bad-4ecd4efe6a7f",
   "metadata": {},
   "outputs": [],
   "source": [
    "AI"
   ]
  },
  {
   "cell_type": "code",
   "execution_count": null,
   "id": "03db5a34-8d91-40f8-81cd-4a8af4be5010",
   "metadata": {},
   "outputs": [],
   "source": [
    "from nltk.tokenize import sent_tokenize"
   ]
  },
  {
   "cell_type": "code",
   "execution_count": null,
   "id": "09958acc-e680-4bc6-995a-c3edd3265957",
   "metadata": {},
   "outputs": [],
   "source": [
    "AI_sent = sent_tokenize(AI)\n",
    "AI_sent"
   ]
  },
  {
   "cell_type": "code",
   "execution_count": null,
   "id": "5c49f72a-e0a4-4ebb-963e-e1598647f71e",
   "metadata": {},
   "outputs": [],
   "source": [
    "len(AI_sent)"
   ]
  },
  {
   "cell_type": "code",
   "execution_count": null,
   "id": "b91a8279-858f-43df-8e81-65c20c1539e0",
   "metadata": {},
   "outputs": [],
   "source": [
    "AI"
   ]
  },
  {
   "cell_type": "code",
   "execution_count": null,
   "id": "b9502671-f81b-469c-8d70-bed4de80574f",
   "metadata": {},
   "outputs": [],
   "source": [
    "from nltk.tokenize import blankline_tokenize # GiVE YOU HOW MANY PARAGRAPH\n",
    "AI_blank = blankline_tokenize(AI) \n",
    "AI_blank"
   ]
  },
  {
   "cell_type": "code",
   "execution_count": null,
   "id": "81258765-9f39-4815-89eb-0e5902a3c208",
   "metadata": {},
   "outputs": [],
   "source": [
    "len(AI_blank) "
   ]
  },
  {
   "cell_type": "code",
   "execution_count": null,
   "id": "5db594ca-cb0f-4570-9601-31e43084fd59",
   "metadata": {},
   "outputs": [],
   "source": [
    "# NEXT WE WILL SEE HOW WE WILL USE UNI-GRAM,BI-GRAM,TRI-GRAM USING NLTK\n",
    "\n",
    "from nltk.util import bigrams,trigrams,ngrams "
   ]
  },
  {
   "cell_type": "code",
   "execution_count": null,
   "id": "f6d34698-769d-4d19-a81d-4abb63cba489",
   "metadata": {},
   "outputs": [],
   "source": [
    "string = 'the best and most beautifull thing in the world cannot be seen or even touched,they must be felt with heart'\n",
    "quotes_tokens = nltk.word_tokenize(string)"
   ]
  },
  {
   "cell_type": "code",
   "execution_count": null,
   "id": "d43d0417-dde9-4d20-8331-26822cce58b9",
   "metadata": {},
   "outputs": [],
   "source": [
    "quotes_tokens"
   ]
  },
  {
   "cell_type": "code",
   "execution_count": null,
   "id": "df09d677-d8ca-4686-85ae-94f688eae04e",
   "metadata": {},
   "outputs": [],
   "source": [
    "len(quotes_tokens)"
   ]
  },
  {
   "cell_type": "code",
   "execution_count": null,
   "id": "20bf9617-9c0a-4ca6-b0b7-80b076e80b99",
   "metadata": {},
   "outputs": [],
   "source": [
    "quotes_bigrams = list(nltk.bigrams(quotes_tokens))\n",
    "quotes_bigrams"
   ]
  },
  {
   "cell_type": "code",
   "execution_count": null,
   "id": "121b4f29-a99e-4226-8ec3-4fe3f50081f9",
   "metadata": {},
   "outputs": [],
   "source": [
    "quotes_tokens"
   ]
  },
  {
   "cell_type": "code",
   "execution_count": null,
   "id": "d5a7b842-0a02-49b6-bfcb-60c6da91c5a6",
   "metadata": {},
   "outputs": [],
   "source": [
    "quotes_trigrams = list(nltk.trigrams(quotes_tokens))\n",
    "quotes_trigrams"
   ]
  },
  {
   "cell_type": "code",
   "execution_count": null,
   "id": "d6e8f871-7043-4749-bbf8-bffc6496d3dd",
   "metadata": {},
   "outputs": [],
   "source": [
    "quotes_trigrams = list(nltk.ngrams(quotes_tokens))\n",
    "quotes_trigrams"
   ]
  },
  {
   "cell_type": "code",
   "execution_count": null,
   "id": "adec3dfc-5947-441b-a389-d2452c3ad7f9",
   "metadata": {},
   "outputs": [],
   "source": [
    "quotes_ngrams = list(nltk.ngrams(quotes_tokens, 4)) \n",
    "quotes_ngrams\n",
    "\n",
    "#it has given n-gram of length 4"
   ]
  },
  {
   "cell_type": "code",
   "execution_count": null,
   "id": "1b0b9c47-699d-4676-9299-cffb41eaf96d",
   "metadata": {},
   "outputs": [],
   "source": [
    "len(quotes_tokens)"
   ]
  },
  {
   "cell_type": "code",
   "execution_count": null,
   "id": "e84351de-f258-4391-9eda-0ca8a695666b",
   "metadata": {},
   "outputs": [],
   "source": [
    "quotes_ngrams_1 = list(nltk.ngrams(quotes_tokens, 5)) \n",
    "quotes_ngrams_1"
   ]
  },
  {
   "cell_type": "code",
   "execution_count": null,
   "id": "0a26003b-222c-4f24-8399-f4d822b6162a",
   "metadata": {},
   "outputs": [],
   "source": [
    "quotes_ngrams = list(nltk.ngrams(quotes_tokens, 9)) \n",
    "quotes_ngrams"
   ]
  },
  {
   "cell_type": "code",
   "execution_count": null,
   "id": "5c652f28-4188-4cd8-9765-9d5bd384a207",
   "metadata": {},
   "outputs": [],
   "source": [
    "#porter-stemmer\n",
    "from nltk.stem import PorterStemmer\n",
    "pst = PorterStemmer()"
   ]
  },
  {
   "cell_type": "code",
   "execution_count": null,
   "id": "a12c35ee-3be3-4dc4-b8ef-4b06e6f33820",
   "metadata": {},
   "outputs": [],
   "source": [
    "pst.stem('having') #stem will gives you the root form of the word "
   ]
  },
  {
   "cell_type": "code",
   "execution_count": null,
   "id": "828f35b4-9e99-4eb4-8c94-df0817a96e85",
   "metadata": {},
   "outputs": [],
   "source": [
    "pst.stem('affection')"
   ]
  },
  {
   "cell_type": "code",
   "execution_count": null,
   "id": "a899d392-3db2-496f-9fd3-9208a8944cb3",
   "metadata": {},
   "outputs": [],
   "source": [
    "pst.stem('playing')"
   ]
  },
  {
   "cell_type": "code",
   "execution_count": null,
   "id": "ad129dc8-5a45-4120-b2b5-1c14db6c5089",
   "metadata": {},
   "outputs": [],
   "source": [
    "pst.stem('give') "
   ]
  },
  {
   "cell_type": "code",
   "execution_count": null,
   "id": "3e5b0141-a2c7-47b9-8818-a0b3a1c674ec",
   "metadata": {},
   "outputs": [],
   "source": [
    "words_to_stem=['give','giving','given','gave']\n",
    "for words in words_to_stem:\n",
    "    print(words+  ':' + pst.stem(words))"
   ]
  },
  {
   "cell_type": "code",
   "execution_count": null,
   "id": "d8fbbc68-0f05-4d9b-928f-050199bd21d7",
   "metadata": {},
   "outputs": [],
   "source": [
    "pst.stem('playing')"
   ]
  },
  {
   "cell_type": "code",
   "execution_count": null,
   "id": "275297e3-3e56-4352-acb6-0f572412fd80",
   "metadata": {},
   "outputs": [],
   "source": [
    "words_to_stem=['give','giving','given','gave','thinking', 'loving', 'final', 'finalized', 'finally']\n",
    "# i am giving these different words to stem, using porter stemmer we get the output\n",
    "\n",
    "for words in words_to_stem:\n",
    "    print(words+ ':' +pst.stem(words))\n",
    "    \n",
    "#in porterstemmer removes ing and replaces with e"
   ]
  },
  {
   "cell_type": "code",
   "execution_count": null,
   "id": "43597d4d-3a8e-427a-b4df-074759368aa8",
   "metadata": {},
   "outputs": [],
   "source": [
    "#another stemmer known as lencastemmer stemmer and lets see what the different we will get hear\n",
    "#stem the same thing using lencastemmer\n",
    "\n",
    "from nltk.stem import LancasterStemmer\n",
    "lst = LancasterStemmer()\n",
    "for words in words_to_stem:\n",
    "    print(words + ':' + lst.stem(words))\n",
    "    \n",
    "# lancasterstemmer is more aggresive then the porterstemmer"
   ]
  },
  {
   "cell_type": "code",
   "execution_count": null,
   "id": "85360ff2-934a-484b-8f24-7f8bc4fe3a67",
   "metadata": {},
   "outputs": [],
   "source": [
    "words_to_stem=['give','giving','given','gave','thinking', 'loving', 'final', 'finalized', 'finally']\n",
    "# i am giving these different words to stem, using porter stemmer we get the output\n",
    "\n",
    "for words in words_to_stem:\n",
    "    print(words+ ':' +pst.stem(words))"
   ]
  },
  {
   "cell_type": "code",
   "execution_count": null,
   "id": "49b637fb-750d-4954-8a97-37cebe7c9349",
   "metadata": {},
   "outputs": [],
   "source": [
    "#we have another stemmer called as snowball stemmer lets see about this snowball stemmer\n",
    "\n",
    "from nltk.stem import SnowballStemmer\n",
    "sbst = SnowballStemmer('english')\n",
    "for words in words_to_stem:\n",
    "    print(words+ ':' +sbst.stem(words))\n",
    "    \n",
    "#snowball stemmer is same as portstemmer\n",
    "#different type of stemmer used based on different type of task\n",
    "#if you want to see how many type of giv has occured then we will see the lancaster stemmer"
   ]
  },
  {
   "cell_type": "code",
   "execution_count": null,
   "id": "4163b175-cc8d-4e6e-a179-4519d8fabd4f",
   "metadata": {},
   "outputs": [],
   "source": [
    "#sometime stemming does not work & lets say e.g - fish,fishes & fishing all of them belongs to root word fish, \n",
    "#one hand stemming will cut the end & lemmatization will take into the morphological analysis of the word\n",
    "\n",
    "from nltk.stem import wordnet\n",
    "from nltk.stem import WordNetLemmatizer\n",
    "word_lem = WordNetLemmatizer()\n",
    "\n",
    "#Hear we are going to wordnet dictionary & we are going to import the wordnet lematizer"
   ]
  },
  {
   "cell_type": "code",
   "execution_count": null,
   "id": "975e9847-437b-4070-9c7e-99885b39f7dc",
   "metadata": {},
   "outputs": [],
   "source": [
    "words_to_stem"
   ]
  },
  {
   "cell_type": "code",
   "execution_count": null,
   "id": "4c4cad50-a88e-4135-b990-79182390878f",
   "metadata": {},
   "outputs": [],
   "source": [
    "#word_lem.lemmatize('corpora') #we get output as corpus \n",
    "\n",
    "#refers to a collection of texts. Such collections may be formed of a single language of texts, or can span multiple languages -- there are numerous reasons for which multilingual corpora (the plural of corpus) may be useful\n",
    "\n",
    "for words in words_to_stem:\n",
    "    print(words+ ':' +word_lem.lemmatize(words))"
   ]
  },
  {
   "cell_type": "code",
   "execution_count": null,
   "id": "c662041d-e79d-438a-9441-bcd099cedf65",
   "metadata": {},
   "outputs": [],
   "source": [
    "pst.stem('final')"
   ]
  },
  {
   "cell_type": "code",
   "execution_count": null,
   "id": "ec72dae8-b1fc-4e30-bf43-26b56ca381b0",
   "metadata": {},
   "outputs": [],
   "source": [
    "lst.stem('finally')"
   ]
  },
  {
   "cell_type": "code",
   "execution_count": null,
   "id": "4b3b3e7d-3f43-4f17-93d1-69e64bea5dc0",
   "metadata": {},
   "outputs": [],
   "source": [
    "sbst.stem('finalized')"
   ]
  },
  {
   "cell_type": "code",
   "execution_count": null,
   "id": "cd6998d0-72d6-4bbb-bf79-044ce6b4eb1b",
   "metadata": {},
   "outputs": [],
   "source": [
    "# there is other concept called POS (part of speech) which deals with subject, noun, pronoun but before of this lets go with other concept called STOPWORDS\n",
    "# STOPWORDS = i, is, as,at, on, about & nltk has their own list of stopewords \n",
    "\n",
    "from nltk.corpus import stopwords"
   ]
  },
  {
   "cell_type": "code",
   "execution_count": null,
   "id": "04a8c5c1-5346-4556-8c74-28515e1c1897",
   "metadata": {},
   "outputs": [],
   "source": [
    "stopwords.words('english') "
   ]
  },
  {
   "cell_type": "code",
   "execution_count": null,
   "id": "181c3ec1-f83b-4591-8334-4578c9881eeb",
   "metadata": {},
   "outputs": [],
   "source": [
    "len(stopwords.words('english')) "
   ]
  },
  {
   "cell_type": "code",
   "execution_count": null,
   "id": "8b937439-8961-4354-b084-8fa8379b01de",
   "metadata": {},
   "outputs": [],
   "source": [
    "stopwords.words('spanish')"
   ]
  },
  {
   "cell_type": "code",
   "execution_count": null,
   "id": "f9be268b-d9c2-45ba-8d83-11ef77aae2f4",
   "metadata": {},
   "outputs": [],
   "source": [
    "len(stopwords.words('spanish')) "
   ]
  },
  {
   "cell_type": "code",
   "execution_count": null,
   "id": "621fe074-faf6-4621-9ffe-bb41f332b0d4",
   "metadata": {},
   "outputs": [],
   "source": [
    "stopwords.words('french') "
   ]
  },
  {
   "cell_type": "code",
   "execution_count": null,
   "id": "ca88a540-c7b9-40c5-917e-9bfda319c75a",
   "metadata": {},
   "outputs": [],
   "source": [
    "len(stopwords.words('french')) "
   ]
  },
  {
   "cell_type": "code",
   "execution_count": null,
   "id": "5f99ebeb-e5f7-4a0e-b03a-fd27451b26f4",
   "metadata": {},
   "outputs": [],
   "source": [
    "stopwords.words('german') "
   ]
  },
  {
   "cell_type": "code",
   "execution_count": null,
   "id": "8833d611-842b-4058-bc77-196b650a2d19",
   "metadata": {},
   "outputs": [],
   "source": [
    "len(stopwords.words('german'))"
   ]
  },
  {
   "cell_type": "code",
   "execution_count": null,
   "id": "a8192f4c-f9ed-42b3-b89c-e1557271f5ce",
   "metadata": {},
   "outputs": [],
   "source": [
    "stopwords.words('hindi') # research phase"
   ]
  },
  {
   "cell_type": "code",
   "execution_count": null,
   "id": "c1bf361d-13f5-4c2d-ac4a-9ff48eb07be6",
   "metadata": {},
   "outputs": [],
   "source": [
    "stopwords.words('marathi') "
   ]
  },
  {
   "cell_type": "code",
   "execution_count": null,
   "id": "d581d18e-3c01-47e6-b347-feca054f36b0",
   "metadata": {},
   "outputs": [],
   "source": [
    "stopwords.words('telugu') "
   ]
  },
  {
   "cell_type": "code",
   "execution_count": null,
   "id": "f1237175-c0c4-499d-bfdb-f2eaee33806f",
   "metadata": {},
   "outputs": [],
   "source": [
    "from nltk import ne_chunk"
   ]
  },
  {
   "cell_type": "code",
   "execution_count": null,
   "id": "662ff950-a6c4-46bb-b9a1-d285f31ec4f1",
   "metadata": {},
   "outputs": [],
   "source": [
    "NE_sent = 'The US president stays in the WHITEHOUSE '"
   ]
  },
  {
   "cell_type": "code",
   "execution_count": null,
   "id": "52e5d07e-ed28-46b3-bbc3-d7ff72b3ecf5",
   "metadata": {},
   "outputs": [],
   "source": [
    "NE_tokens = word_tokenize(NE_sent)\n",
    "\n",
    "#after tokenize need to add the pos tags\n",
    "NE_tokens\n"
   ]
  },
  {
   "cell_type": "code",
   "execution_count": null,
   "id": "91decaca-ef18-43e0-ace7-4b7cc240550f",
   "metadata": {},
   "outputs": [],
   "source": [
    "NE_tags = nltk.pos_tag(NE_tokens)\n",
    "NE_tags"
   ]
  },
  {
   "cell_type": "code",
   "execution_count": null,
   "id": "09173ebf-ddde-4741-b1a6-67183a83e872",
   "metadata": {},
   "outputs": [],
   "source": [
    "#we are passin the NE_NER into ne_chunks function and lets see the outputs\n",
    "\n",
    "NE_NER = ne_chunk(NE_tags)\n",
    "print(NE_NER)"
   ]
  },
  {
   "cell_type": "code",
   "execution_count": null,
   "id": "c6fb416b-14a6-41dc-a1ff-513cfc1799d1",
   "metadata": {},
   "outputs": [],
   "source": [
    "new = 'the big cat ate the little mouse who was after fresh cheese'\n",
    "new_tokens = nltk.pos_tag(word_tokenize(new))\n",
    "new_tokens\n",
    "\n",
    "# tokenize done and lets add the pos tags also"
   ]
  },
  {
   "cell_type": "code",
   "execution_count": null,
   "id": "c2ed7766-9b26-48f9-9e54-c33e6fb78e46",
   "metadata": {},
   "outputs": [],
   "source": [
    "pip install WordCloud"
   ]
  },
  {
   "cell_type": "code",
   "execution_count": null,
   "id": "648a516a-0ce9-45b3-9682-d86595f7abb9",
   "metadata": {},
   "outputs": [],
   "source": [
    "# Libraries\n",
    "from wordcloud import WordCloud\n",
    "import matplotlib.pyplot as plt"
   ]
  },
  {
   "cell_type": "code",
   "execution_count": null,
   "id": "27c0dab6-b25c-49c3-ba49-a000662e18f5",
   "metadata": {},
   "outputs": [],
   "source": [
    "# Create a list of word\n",
    "text=(\"Python Python Python Matplotlib Matplotlib Seaborn Network Plot Violin Chart Pandas Datascience Wordcloud Spider Radar Parrallel Alpha Color Brewer Density Scatter Barplot Barplot Boxplot Violinplot Treemap Stacked Area Chart Chart Visualization Dataviz Donut Pie Time-Series Wordcloud Wordcloud Sankey Bubble\")"
   ]
  },
  {
   "cell_type": "code",
   "execution_count": null,
   "id": "354962d9-8db2-4777-a21b-9438353071d6",
   "metadata": {},
   "outputs": [],
   "source": [
    "text"
   ]
  },
  {
   "cell_type": "code",
   "execution_count": null,
   "id": "01342c98-3f47-4e2e-bc87-73e2c2cc9d48",
   "metadata": {},
   "outputs": [],
   "source": [
    "# Create the wordcloud object\n",
    "wordcloud = WordCloud(width=480, height=480, margin=0).generate(text) "
   ]
  },
  {
   "cell_type": "code",
   "execution_count": 72,
   "id": "5fb60e5a-d313-4112-9596-98c505a74085",
   "metadata": {},
   "outputs": [
    {
     "data": {
      "image/png": "[encoded data removed]",
      "text/plain": [
       "<Figure size 640x480 with 1 Axes>"
      ]
     },
     "metadata": {},
     "output_type": "display_data"
    }
   ],
   "source": [
    "# Display the generated image:\n",
    "plt.imshow(wordcloud, interpolation='bilinear')\n",
    "plt.axis(\"off\")\n",
    "plt.margins(x=0, y=0)\n",
    "plt.show()"
   ]
  },
  {
   "cell_type": "code",
   "execution_count": null,
   "id": "043fe667-6ccc-434b-8f33-2e0fb1712f27",
   "metadata": {},
   "outputs": [],
   "source": []
  }
 ],
 "metadata": {
  "kernelspec": {
   "display_name": "Python 3 (ipykernel)",
   "language": "python",
   "name": "python3"
  },
  "language_info": {
   "codemirror_mode": {
    "name": "ipython",
    "version": 3
   },
   "file_extension": ".py",
   "mimetype": "text/x-python",
   "name": "python",
   "nbconvert_exporter": "python",
   "pygments_lexer": "ipython3",
   "version": "3.12.7"
  }
 },
 "nbformat": 4,
 "nbformat_minor": 5
}
